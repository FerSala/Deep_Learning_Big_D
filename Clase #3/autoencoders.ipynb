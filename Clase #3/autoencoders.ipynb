{
 "cells": [
  {
   "cell_type": "markdown",
   "id": "e94143e6",
   "metadata": {},
   "source": [
    "# Basic NN autoencoder"
   ]
  },
  {
   "cell_type": "markdown",
   "id": "9722441c",
   "metadata": {},
   "source": [
    "Compresion y descompresion de imagenes."
   ]
  },
  {
   "cell_type": "markdown",
   "id": "12c1fa74",
   "metadata": {},
   "source": [
    "- Reduccion de dimensionalidad\n",
    "- Compresion de data\n",
    "- Deteccion de anomalias.\n",
    "- Eliminacion de ruido (image denoising)\n",
    "- Generacion de imagenes.\n",
    "- Separar partes de imagenes para sacar detalles de la imagen, tamano de lo que se observa, etc..."
   ]
  },
  {
   "cell_type": "code",
   "execution_count": 1,
   "id": "ff1a90c7",
   "metadata": {},
   "outputs": [],
   "source": [
    "import torch\n",
    "import torch.nn as nn\n",
    "import torch.nn.functional as F\n",
    "import torchvision\n",
    "import torchvision.transforms as transforms\n",
    "from torch.utils.data import DataLoader\n",
    "import matplotlib.pyplot as plt"
   ]
  },
  {
   "cell_type": "code",
   "execution_count": 2,
   "id": "d103b9ce",
   "metadata": {},
   "outputs": [
    {
     "name": "stderr",
     "output_type": "stream",
     "text": [
      "100.0%\n",
      "100.0%\n",
      "100.0%\n",
      "100.0%\n"
     ]
    }
   ],
   "source": [
    "device = torch.device(\"cuda\" if torch.cuda.is_available() else \"cpu\")\n",
    "\n",
    "# Dataset\n",
    "transform = transforms.ToTensor()\n",
    "train_dataset = torchvision.datasets.MNIST(root='./data', train=True, transform=transform, download=True)\n",
    "train_loader = DataLoader(train_dataset, batch_size=128, shuffle=True)\n",
    "\n",
    "# Autoencoder\n",
    "class Autoencoder(nn.Module):\n",
    "    def __init__(self):\n",
    "        super(Autoencoder, self).__init__()\n",
    "        # Encoder\n",
    "        self.encoder = nn.Sequential(\n",
    "            nn.Linear(28*28, 128),\n",
    "            nn.ReLU(),\n",
    "            nn.Linear(128, 64),\n",
    "            nn.ReLU(),\n",
    "            nn.Linear(64, 12),\n",
    "            nn.ReLU(),\n",
    "            nn.Linear(12, 3)\n",
    "        )\n",
    "        # Decoder\n",
    "        self.decoder = nn.Sequential(\n",
    "            nn.Linear(3, 12),\n",
    "            nn.ReLU(),\n",
    "            nn.Linear(12, 64),\n",
    "            nn.ReLU(),\n",
    "            nn.Linear(64, 128),\n",
    "            nn.ReLU(),\n",
    "            nn.Linear(128, 28*28),\n",
    "            nn.Sigmoid()\n",
    "        )\n",
    "\n",
    "    def forward(self, x):\n",
    "        x = x.view(-1, 28*28)\n",
    "        z = self.encoder(x)\n",
    "        x_recon = self.decoder(z)\n",
    "        return x_recon.view(-1, 1, 28, 28)\n"
   ]
  },
  {
   "cell_type": "code",
   "execution_count": 4,
   "id": "d4d8eb7a",
   "metadata": {},
   "outputs": [
    {
     "name": "stdout",
     "output_type": "stream",
     "text": [
      "Epoch [1/10], Loss: 0.0515\n",
      "Epoch [2/10], Loss: 0.0438\n",
      "Epoch [3/10], Loss: 0.0402\n",
      "Epoch [4/10], Loss: 0.0370\n",
      "Epoch [5/10], Loss: 0.0381\n",
      "Epoch [6/10], Loss: 0.0366\n",
      "Epoch [7/10], Loss: 0.0355\n",
      "Epoch [8/10], Loss: 0.0353\n",
      "Epoch [9/10], Loss: 0.0361\n",
      "Epoch [10/10], Loss: 0.0377\n"
     ]
    },
    {
     "data": {
      "image/png": "[encoded data removed]",
      "text/plain": [
       "<Figure size 1500x300 with 20 Axes>"
      ]
     },
     "metadata": {},
     "output_type": "display_data"
    }
   ],
   "source": [
    "model = Autoencoder().to(device)\n",
    "criterion = nn.MSELoss()\n",
    "optimizer = torch.optim.Adam(model.parameters(), lr=1e-3)\n",
    "\n",
    "# Training loop\n",
    "num_epochs = 10\n",
    "for epoch in range(num_epochs):\n",
    "    for data in train_loader:\n",
    "        imgs, _ = data\n",
    "        imgs = imgs.to(device)\n",
    "        \n",
    "        # Forward\n",
    "        outputs = model(imgs)\n",
    "        loss = criterion(outputs, imgs)\n",
    "        \n",
    "        # Backward\n",
    "        optimizer.zero_grad()\n",
    "        loss.backward()\n",
    "        optimizer.step()\n",
    "        \n",
    "    print(f\"Epoch [{epoch+1}/{num_epochs}], Loss: {loss.item():.4f}\")\n",
    "\n",
    "# Visualize some reconstructions\n",
    "def show_images(imgs, reconstructions):\n",
    "    imgs = imgs.view(-1, 28, 28).cpu().detach()\n",
    "    reconstructions = reconstructions.view(-1, 28, 28).cpu().detach()\n",
    "    fig, axes = plt.subplots(2, 10, figsize=(15, 3))\n",
    "    for i in range(10):\n",
    "        axes[0, i].imshow(imgs[i], cmap='gray')\n",
    "        axes[0, i].axis('off')\n",
    "        axes[1, i].imshow(reconstructions[i], cmap='gray')\n",
    "        axes[1, i].axis('off')\n",
    "    plt.show()\n",
    "\n",
    "# Run inference\n",
    "sample_imgs, _ = next(iter(train_loader))\n",
    "sample_imgs = sample_imgs.to(device)\n",
    "reconstructions = model(sample_imgs)\n",
    "show_images(sample_imgs, reconstructions)"
   ]
  },
  {
   "cell_type": "code",
   "execution_count": null,
   "id": "2921b30e",
   "metadata": {},
   "outputs": [],
   "source": []
  },
  {
   "cell_type": "code",
   "execution_count": null,
   "id": "f31b8f93",
   "metadata": {},
   "outputs": [],
   "source": []
  }
 ],
 "metadata": {
  "kernelspec": {
   "display_name": "venv",
   "language": "python",
   "name": "python3"
  },
  "language_info": {
   "codemirror_mode": {
    "name": "ipython",
    "version": 3
   },
   "file_extension": ".py",
   "mimetype": "text/x-python",
   "name": "python",
   "nbconvert_exporter": "python",
   "pygments_lexer": "ipython3",
   "version": "3.12.7"
  }
 },
 "nbformat": 4,
 "nbformat_minor": 5
}
