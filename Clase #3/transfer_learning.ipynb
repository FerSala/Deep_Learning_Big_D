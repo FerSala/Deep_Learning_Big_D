{
 "cells": [
  {
   "cell_type": "code",
   "execution_count": null,
   "metadata": {},
   "outputs": [],
   "source": [
    "from torchvision import transforms, models\n",
    "from torch.utils.data import Dataset, DataLoader\n",
    "import torch\n",
    "import numpy as np\n",
    "import pandas as pd\n",
    "import pyarrow.parquet as pq\n",
    "from PIL import Image\n",
    "import io\n",
    "import json\n",
    "import time"
   ]
  },
  {
   "cell_type": "code",
   "execution_count": null,
   "metadata": {},
   "outputs": [],
   "source": [
    "# https://huggingface.co/datasets/huggan/wikiart/tree/main/data\n",
    "parquets = [\n",
    "    \"./data/train-00000-of-00072.parquet\",\n",
    "    \"./data/train-00001-of-00072.parquet\",\n",
    "    \"./data/train-00002-of-00072.parquet\",\n",
    "]\n",
    "\n",
    "df_dataset = pd.DataFrame([])\n",
    "for p in parquets:\n",
    "    df_dataset = pd.concat([df_dataset, pq.read_table(p).to_pandas()], ignore_index=True)\n",
    "df_dataset"
   ]
  },
  {
   "cell_type": "code",
   "execution_count": null,
   "metadata": {},
   "outputs": [],
   "source": [
    "with open(\"./data/dataset_infos.json\", 'r') as file:\n",
    "    dataset_info = json.load(file)\n",
    "\n",
    "artists = dataset_info[\"huggan--wikiart\"][\"features\"][\"artist\"][\"names\"]\n",
    "genres = dataset_info[\"huggan--wikiart\"][\"features\"][\"genre\"][\"names\"]\n",
    "styles = dataset_info[\"huggan--wikiart\"][\"features\"][\"style\"][\"names\"]"
   ]
  },
  {
   "cell_type": "code",
   "execution_count": null,
   "metadata": {},
   "outputs": [],
   "source": [
    "image = Image.open(io.BytesIO(df_dataset.image[0][\"bytes\"]))\n",
    "print(artists[df_dataset[\"artist\"][0]], genres[df_dataset[\"genre\"][0]], styles[df_dataset[\"style\"][0]])\n",
    "image"
   ]
  },
  {
   "cell_type": "code",
   "execution_count": null,
   "metadata": {},
   "outputs": [],
   "source": [
    "dataset_artist_values = pd.DataFrame(df_dataset[\"artist\"].value_counts()).reset_index().reset_index(names=\"new_artist_label\")\n",
    "dataset_artist_values['artist_name'] = dataset_artist_values[\"artist\"].apply(lambda x: artists[x])\n",
    "dataset_artist_values"
   ]
  },
  {
   "cell_type": "code",
   "execution_count": null,
   "metadata": {},
   "outputs": [],
   "source": [
    "dataset_genres_values = pd.DataFrame(df_dataset[\"genre\"].value_counts()).reset_index().reset_index(names=\"new_genre_label\")\n",
    "dataset_genres_values['genre_name'] = dataset_genres_values[\"genre\"].apply(lambda x: genres[x])\n",
    "dataset_genres_values"
   ]
  },
  {
   "cell_type": "code",
   "execution_count": null,
   "metadata": {},
   "outputs": [],
   "source": [
    "dataset_style_values = pd.DataFrame(df_dataset[\"style\"].value_counts()).reset_index().reset_index(names=\"new_style_label\")\n",
    "dataset_style_values['style_name'] = dataset_style_values[\"style\"].apply(lambda x: styles[x])\n",
    "dataset_style_values"
   ]
  },
  {
   "cell_type": "code",
   "execution_count": null,
   "metadata": {},
   "outputs": [],
   "source": [
    "df_dataset_labeled = pd.merge(df_dataset, dataset_artist_values[[\"artist\", \"new_artist_label\"]], on=\"artist\", how=\"left\")\n",
    "df_dataset_labeled = pd.merge(df_dataset_labeled, dataset_genres_values[[\"genre\", \"new_genre_label\"]], on=\"genre\", how=\"left\")\n",
    "df_dataset_labeled = pd.merge(df_dataset_labeled, dataset_style_values[[\"style\", \"new_style_label\"]], on=\"style\", how=\"left\")\n",
    "df_dataset_labeled"
   ]
  },
  {
   "cell_type": "code",
   "execution_count": null,
   "metadata": {},
   "outputs": [],
   "source": [
    "class CustomImageDataset(Dataset):\n",
    "    def __init__(self, df_dataset, target_name, transform=None, target_transform=None):\n",
    "        self.img_labels = df_dataset[target_name]\n",
    "        self.img_bytes = df_dataset[\"image\"]\n",
    "        self.transform = transform\n",
    "        self.target_transform = target_transform\n",
    "\n",
    "    def __len__(self):\n",
    "        return len(self.img_labels)\n",
    "\n",
    "    def __getitem__(self, idx):\n",
    "        image = Image.open(io.BytesIO(self.img_bytes[idx][\"bytes\"]))\n",
    "        label = self.img_labels[idx]\n",
    "        if self.transform:\n",
    "            image = self.transform(image)\n",
    "        if self.target_transform:\n",
    "            label = self.target_transform(label)\n",
    "        return image, label"
   ]
  },
  {
   "cell_type": "code",
   "execution_count": null,
   "metadata": {},
   "outputs": [],
   "source": [
    "data_transforms =  transforms.Compose([\n",
    "        transforms.Resize((224, 224)),\n",
    "        transforms.ToTensor()\n",
    "    ])\n",
    "\n",
    "train_dataset = CustomImageDataset(df_dataset=df_dataset_labeled, target_name=\"new_artist_label\", transform=data_transforms)"
   ]
  },
  {
   "cell_type": "code",
   "execution_count": null,
   "metadata": {},
   "outputs": [],
   "source": [
    "train_dataloader = DataLoader(train_dataset, batch_size=8, shuffle=True)"
   ]
  },
  {
   "cell_type": "code",
   "execution_count": null,
   "metadata": {},
   "outputs": [],
   "source": [
    "train_features, train_labels = next(iter(train_dataloader))\n",
    "print(f\"Feature batch shape: {train_features.size()}\")\n",
    "print(f\"Labels batch shape: {train_labels.size()}\")\n",
    "img = train_features[0]\n",
    "label = train_labels[0]\n",
    "img = transforms.ToPILImage()(img)\n",
    "print(f\"Label: {label}\")\n",
    "img\n"
   ]
  },
  {
   "cell_type": "code",
   "execution_count": null,
   "metadata": {},
   "outputs": [],
   "source": [
    "from sklearn.model_selection import train_test_split\n",
    "\n",
    "train_idx, valid_idx= train_test_split(\n",
    "np.arange(len(df_dataset_labeled[\"new_artist_label\"])),\n",
    "test_size=0.2,\n",
    "shuffle=True,\n",
    "stratify=None)"
   ]
  },
  {
   "cell_type": "code",
   "execution_count": null,
   "metadata": {},
   "outputs": [],
   "source": [
    "train_idx, valid_idx"
   ]
  },
  {
   "cell_type": "code",
   "execution_count": null,
   "metadata": {},
   "outputs": [],
   "source": [
    "df_dataset_labeled[\"new_artist_label\"].value_counts()"
   ]
  },
  {
   "cell_type": "code",
   "execution_count": null,
   "metadata": {},
   "outputs": [],
   "source": [
    "df_dataset_labeled.iloc[train_idx, :][\"new_artist_label\"].value_counts()"
   ]
  },
  {
   "cell_type": "code",
   "execution_count": null,
   "metadata": {},
   "outputs": [],
   "source": [
    "339 * 0.8, 339 * 0.2"
   ]
  },
  {
   "cell_type": "code",
   "execution_count": null,
   "metadata": {},
   "outputs": [],
   "source": [
    "train_sampler = torch.utils.data.SubsetRandomSampler(train_idx)\n",
    "valid_sampler = torch.utils.data.SubsetRandomSampler(valid_idx)\n",
    "\n",
    "dataset = CustomImageDataset(df_dataset_labeled, target_name=\"new_artist_label\", transform=data_transforms)\n",
    "batch_size = 32\n",
    "\n",
    "train_loader = torch.utils.data.DataLoader(dataset, batch_size=batch_size, sampler=train_sampler)\n",
    "valid_loader = torch.utils.data.DataLoader(dataset, batch_size=batch_size, sampler=valid_sampler)"
   ]
  },
  {
   "cell_type": "code",
   "execution_count": null,
   "metadata": {},
   "outputs": [],
   "source": [
    "train_features, train_labels = next(iter(train_loader))\n",
    "print(f\"Feature batch shape: {train_features.size()}\")\n",
    "print(f\"Labels batch shape: {train_labels.size()}\")\n",
    "img = train_features[0]\n",
    "label = train_labels[0]\n",
    "img = transforms.ToPILImage()(img)\n",
    "print(f\"Label: {label}\")\n",
    "img\n"
   ]
  },
  {
   "cell_type": "code",
   "execution_count": null,
   "metadata": {},
   "outputs": [],
   "source": [
    "train_labels.dtype"
   ]
  },
  {
   "cell_type": "code",
   "execution_count": null,
   "metadata": {},
   "outputs": [],
   "source": [
    "model = models.resnet18(pretrained=True)\n",
    "device = torch.device(\"cpu\")\n",
    "\n",
    "# Freeze base layers\n",
    "# for param in model.parameters():\n",
    "#     param.requires_grad = False\n",
    "\n",
    "# Replace classifier layer\n",
    "num_ftrs = model.fc.in_features\n",
    "model.fc = torch.nn.Linear(num_ftrs, len(dataset_artist_values))  # For your number of classes\n",
    "model = model.to(device)\n",
    "\n",
    "criterion = torch.nn.CrossEntropyLoss()\n",
    "optimizer = torch.optim.Adam(model.parameters(), lr=0.001)\n",
    "\n",
    "dataloaders = {\n",
    "    'train': train_loader,\n",
    "    'val': valid_loader\n",
    "}\n",
    "\n",
    "dataset_lens = {\n",
    "    'train': len(train_idx),\n",
    "    'val': len(valid_idx)\n",
    "}\n"
   ]
  },
  {
   "cell_type": "code",
   "execution_count": null,
   "metadata": {},
   "outputs": [],
   "source": [
    "def train_model(model, criterion, optimizer, num_epochs=3):\n",
    "    since = time.time()\n",
    "    for epoch in range(num_epochs):\n",
    "        print(f\"\\n\\n-------\\nEpoch {epoch+1}/{num_epochs}\")\n",
    "        for phase in ['train', 'val']:\n",
    "            # Save checkpoint\n",
    "            if phase == 'val':\n",
    "                torch.save(model.state_dict(), f\"./data/resnet18_artwiki_model_state_epoch_{epoch+1}.pth\")\n",
    "                \n",
    "            model.train() if phase == 'train' else model.eval()\n",
    "            running_loss = 0.0\n",
    "            running_corrects = 0\n",
    "\n",
    "            for inputs, labels in dataloaders[phase]:\n",
    "                inputs, labels = inputs.to(device), labels.to(device)\n",
    "                optimizer.zero_grad()\n",
    "\n",
    "                with torch.set_grad_enabled(phase == 'train'):\n",
    "                    outputs = model(inputs)\n",
    "                    _, preds = torch.max(outputs, 1)\n",
    "                    loss = criterion(outputs, labels)\n",
    "\n",
    "                    if phase == 'train':\n",
    "                        loss.backward()\n",
    "                        optimizer.step()\n",
    "\n",
    "                running_loss += loss.item() * inputs.size(0)\n",
    "                running_corrects += torch.sum(preds == labels.data)\n",
    "\n",
    "            epoch_loss = running_loss / dataset_lens[phase]\n",
    "            epoch_acc = running_corrects.double() / dataset_lens[phase]\n",
    "\n",
    "            print(f\"{phase} Loss: {epoch_loss:.4f} Acc: {epoch_acc:.4f}\")\n",
    "    print(f\"Training complete in {(time.time() - since):.0f}s\")"
   ]
  },
  {
   "cell_type": "code",
   "execution_count": null,
   "metadata": {},
   "outputs": [],
   "source": [
    "num_epochs = 10\n",
    "train_model(model, criterion, optimizer, num_epochs=num_epochs)"
   ]
  },
  {
   "cell_type": "markdown",
   "metadata": {},
   "source": [
    "# Load model from previous checkpoint state"
   ]
  },
  {
   "cell_type": "code",
   "execution_count": null,
   "metadata": {},
   "outputs": [],
   "source": [
    "model = models.resnet18(pretrained=True)\n",
    "\n",
    "num_ftrs = model.fc.in_features\n",
    "model.fc = torch.nn.Linear(num_ftrs, len(dataset_artist_values))  # For your number of classes\n",
    "model = model.to(device)\n",
    "\n",
    "model.load_state_dict(torch.load(\"./data/resnet18_artwiki_model_state.pth\", weights_only=True, map_location=torch.device('cpu')))\n",
    "\n",
    "model.eval()\n"
   ]
  },
  {
   "cell_type": "code",
   "execution_count": null,
   "metadata": {},
   "outputs": [],
   "source": [
    "def predict(model, image_path, device='cpu', input_size=(224, 224)):\n",
    "    \"\"\"\n",
    "    Predict the class of an image using the given PyTorch model.\n",
    "\n",
    "    Args:\n",
    "        model: The trained PyTorch model.\n",
    "        image_path: Path to the image file.\n",
    "        device: Device to run the model on ('cpu' or 'cuda').\n",
    "        input_size: Tuple specifying the target size for the image (default is (224, 224)).\n",
    "\n",
    "    Returns:\n",
    "        The predicted class or probabilities.\n",
    "    \"\"\"\n",
    "    # Define the preprocessing pipeline\n",
    "    preprocess = transforms.Compose([\n",
    "        transforms.Resize(input_size),\n",
    "        transforms.ToTensor()\n",
    "    ])\n",
    "    \n",
    "    # Load and preprocess the image\n",
    "    image = Image.open(image_path).convert('RGB')\n",
    "    image = preprocess(image).unsqueeze(0)  # Add batch dimension\n",
    "    \n",
    "    # Move the model and image to the specified device\n",
    "    model = model.to(device)\n",
    "    image = image.to(device)\n",
    "    \n",
    "    # Set the model to evaluation mode\n",
    "    model.eval()\n",
    "    \n",
    "    # Perform inference\n",
    "    with torch.no_grad():\n",
    "        outputs = model(image)\n",
    "        probabilities = torch.nn.functional.softmax(outputs[0], dim=0)\n",
    "    return probabilities, outputs"
   ]
  },
  {
   "cell_type": "code",
   "execution_count": null,
   "metadata": {},
   "outputs": [],
   "source": [
    "probabilities, outputs = predict(model, \"./data/beach-monet.png\")\n",
    "predicted_class = torch.argmax(probabilities).item()\n",
    "print(f\"Predicted class probability: {torch.max(probabilities) * 100}\")\n",
    "dataset_artist_values[dataset_artist_values[\"new_artist_label\"] == predicted_class].head(1)\n"
   ]
  },
  {
   "cell_type": "code",
   "execution_count": null,
   "metadata": {},
   "outputs": [],
   "source": [
    "values, indices = torch.topk(probabilities, k=5)\n",
    "\n",
    "print(f\"Top 5 predicted classes probabilities:\")\n",
    "for p in list(zip(values.numpy().tolist(), indices.numpy().tolist())):\n",
    "    print(f\"{p[0] * 100:.2f}% - {dataset_artist_values[dataset_artist_values['new_artist_label'] == p[1]].head(1).artist_name.values[0]}\")"
   ]
  },
  {
   "cell_type": "code",
   "execution_count": null,
   "metadata": {},
   "outputs": [],
   "source": []
  },
  {
   "cell_type": "markdown",
   "metadata": {},
   "source": [
    "# Multilabel\n",
    "\n",
    "# Dos tipos:\n",
    "\n",
    "## 1. Múltiples labels representan múltiples objetos en una sola imagen:\n",
    "\n",
    "![multilabel-1](./images/multilabel.png)\n",
    "\n",
    "## 2. Múltiples labels representan un mismo objeto en una **jerarquía** de labels:\n",
    "\n",
    "\n",
    "<img src=\"./images/multilabel-jerarquia.png\" alt=\"drawing\" width=\"500\"/>"
   ]
  },
  {
   "cell_type": "code",
   "execution_count": null,
   "metadata": {},
   "outputs": [],
   "source": [
    "class MultiLabelResNet(torch.nn.Module):\n",
    "    def __init__(self, backbone_model, num_features):\n",
    "        super(MultiLabelResNet, self).__init__()\n",
    "        self.backbone_model = backbone_model\n",
    "\n",
    "        num_ftrs = self.backbone_model.fc.in_features\n",
    "        self.backbone_model.fc = torch.nn.Identity()\n",
    "        \n",
    "        # Three independent classification heads\n",
    "        self.head_artist = torch.nn.Linear(num_ftrs, num_features[0])\n",
    "        self.head_genre = torch.nn.Linear(num_ftrs, num_features[1])\n",
    "        self.head_style = torch.nn.Linear(num_ftrs, num_features[2])\n",
    "\n",
    "    def forward(self, x):\n",
    "        features = self.backbone_model(x)  # Get features from ResNet\n",
    "        \n",
    "        out1 = self.head_artist(features)\n",
    "        out2 = self.head_genre(features)\n",
    "        out3 = self.head_style(features)\n",
    "        \n",
    "        return out1, out2, out3"
   ]
  },
  {
   "cell_type": "code",
   "execution_count": null,
   "metadata": {},
   "outputs": [],
   "source": [
    "df_dataset_multilabeled = df_dataset_labeled.copy()\n",
    "df_dataset_multilabeled['multilabels'] = df_dataset_labeled.apply(lambda row: [row['new_artist_label'], row['new_genre_label'], row['new_style_label']], axis=1)\n",
    "df_dataset_multilabeled"
   ]
  },
  {
   "cell_type": "code",
   "execution_count": null,
   "metadata": {},
   "outputs": [],
   "source": []
  },
  {
   "cell_type": "code",
   "execution_count": null,
   "metadata": {},
   "outputs": [],
   "source": [
    "train_sampler = torch.utils.data.SubsetRandomSampler(train_idx)\n",
    "valid_sampler = torch.utils.data.SubsetRandomSampler(valid_idx)\n",
    "\n",
    "dataset = CustomImageDataset(df_dataset_multilabeled, target_name=\"multilabels\", transform=data_transforms, \n",
    "                             target_transform=lambda x: torch.tensor(x, dtype=torch.int64))\n",
    "batch_size = 32\n",
    "\n",
    "train_loader = torch.utils.data.DataLoader(dataset, batch_size=batch_size, sampler=train_sampler)\n",
    "valid_loader = torch.utils.data.DataLoader(dataset, batch_size=batch_size, sampler=valid_sampler)\n",
    "\n",
    "dataloaders = {\n",
    "    'train': train_loader,\n",
    "    'val': valid_loader\n",
    "}\n",
    "\n",
    "dataset_lens = {\n",
    "    'train': len(train_idx),\n",
    "    'val': len(valid_idx)\n",
    "}"
   ]
  },
  {
   "cell_type": "code",
   "execution_count": null,
   "metadata": {},
   "outputs": [],
   "source": [
    "train_features, train_labels = next(iter(train_loader))\n",
    "print(f\"Feature batch shape: {train_features.size()}\")\n",
    "print(f\"Labels batch shape: {train_labels.size()}\")\n",
    "img = train_features[0]\n",
    "label = train_labels[0]\n",
    "img = transforms.ToPILImage()(img)\n",
    "print(f\"Label: {label}\")\n",
    "img"
   ]
  },
  {
   "cell_type": "code",
   "execution_count": null,
   "metadata": {},
   "outputs": [],
   "source": [
    "train_labels"
   ]
  },
  {
   "cell_type": "code",
   "execution_count": null,
   "metadata": {},
   "outputs": [],
   "source": [
    "train_labels[:, 0]"
   ]
  },
  {
   "cell_type": "code",
   "execution_count": null,
   "metadata": {},
   "outputs": [],
   "source": [
    "[len(dataset_artist_values), len(dataset_genres_values), len(dataset_style_values)]"
   ]
  },
  {
   "cell_type": "code",
   "execution_count": null,
   "metadata": {},
   "outputs": [],
   "source": [
    "resnet_model = models.resnet18(pretrained=True)\n",
    "device = torch.device(\"cpu\")\n",
    "\n",
    "model = MultiLabelResNet(resnet_model, [len(dataset_artist_values), len(dataset_genres_values), len(dataset_style_values)])\n",
    "\n",
    "# Freeze base layers\n",
    "# for param in model.parameters():\n",
    "#     param.requires_grad = False\n",
    "\n",
    "model = model.to(device)\n",
    "\n",
    "criterion_artists = torch.nn.CrossEntropyLoss()\n",
    "criterion_genres = torch.nn.CrossEntropyLoss()\n",
    "criterion_styles = torch.nn.CrossEntropyLoss()\n",
    "optimizer = torch.optim.Adam(model.parameters(), lr=0.001)"
   ]
  },
  {
   "cell_type": "code",
   "execution_count": null,
   "metadata": {},
   "outputs": [],
   "source": [
    "def train_model(model, criterion_artists, criterion_genres, criterion_styles, optimizer, num_epochs=3):\n",
    "    since = time.time()\n",
    "    for epoch in range(num_epochs):\n",
    "        print(f\"\\n\\n-------\\nEpoch {epoch+1}/{num_epochs}\")\n",
    "        for phase in ['train', 'val']:\n",
    "            if phase == 'val':\n",
    "                torch.save(model.state_dict(), f\"./data/resnet18_artwiki_model_state_multilabel_epoch_{epoch+1}.pth\")\n",
    "            model.train() if phase == 'train' else model.eval()\n",
    "            running_loss_artist = 0.0\n",
    "            running_loss_genre = 0.0\n",
    "            running_loss_style = 0.0\n",
    "            running_corrects_artist = 0.0\n",
    "            running_corrects_genre = 0.0\n",
    "            running_corrects_style = 0.0\n",
    "\n",
    "            for inputs, labels in dataloaders[phase]:\n",
    "                inputs, labels = inputs.to(device), labels.to(device)\n",
    "                optimizer.zero_grad()\n",
    "\n",
    "                with torch.set_grad_enabled(phase == 'train'):\n",
    "                    out_artist, out_genre, out_style = model(inputs)\n",
    "                    loss_artist = criterion_artists(out_artist, labels[:, 0])\n",
    "                    loss_genre = criterion_genres(out_genre, labels[:, 1])\n",
    "                    loss_style = criterion_styles(out_style, labels[:, 2])\n",
    "                    loss_total = loss_artist + loss_genre + loss_style\n",
    "\n",
    "                    if phase == 'train':\n",
    "                        (loss_total).backward()\n",
    "                        optimizer.step()\n",
    "\n",
    "                running_loss_artist += loss_artist.item() * inputs.size(0)\n",
    "                running_corrects_artist += torch.sum(torch.argmax(out_artist, 1) == labels[:, 0].data)\n",
    "\n",
    "                running_loss_genre += loss_genre.item() * inputs.size(0)\n",
    "                running_corrects_genre += torch.sum(torch.argmax(out_genre, 1) == labels[:, 1].data)\n",
    "\n",
    "                running_loss_style += loss_style.item() * inputs.size(0)\n",
    "                running_corrects_style += torch.sum(torch.argmax(out_style, 1) == labels[:, 2].data)\n",
    "\n",
    "            epoch_loss_artist = running_loss_artist / dataset_lens[phase]\n",
    "            epoch_acc_artist = running_corrects_artist.double() / dataset_lens[phase]\n",
    "            print(f\"{phase} Artist Loss: {epoch_loss_artist:.4f} Acc: {epoch_acc_artist:.4f}\")\n",
    "\n",
    "            epoch_loss_genre = running_loss_genre / dataset_lens[phase]\n",
    "            epoch_acc_genre = running_corrects_genre.double() / dataset_lens[phase]\n",
    "            print(f\"{phase} Genre Loss: {epoch_loss_genre:.4f} Acc: {epoch_acc_genre:.4f}\")\n",
    "\n",
    "            epoch_loss_style = running_loss_style / dataset_lens[phase]\n",
    "            epoch_acc_style = running_corrects_style.double() / dataset_lens[phase]\n",
    "            print(f\"{phase} Style Loss: {epoch_loss_style:.4f} Acc: {epoch_acc_style:.4f}\")\n",
    "\n",
    "    print(f\"Training complete in {(time.time() - since):.0f}s\")"
   ]
  },
  {
   "cell_type": "code",
   "execution_count": null,
   "metadata": {},
   "outputs": [],
   "source": [
    "num_epochs = 10\n",
    "train_model(model, criterion_artists, criterion_genres, criterion_styles, optimizer, num_epochs=num_epochs)"
   ]
  },
  {
   "cell_type": "code",
   "execution_count": null,
   "metadata": {},
   "outputs": [],
   "source": []
  }
 ],
 "metadata": {
  "kernelspec": {
   "display_name": "venv",
   "language": "python",
   "name": "python3"
  },
  "language_info": {
   "codemirror_mode": {
    "name": "ipython",
    "version": 3
   },
   "file_extension": ".py",
   "mimetype": "text/x-python",
   "name": "python",
   "nbconvert_exporter": "python",
   "pygments_lexer": "ipython3",
   "version": "3.12.7"
  }
 },
 "nbformat": 4,
 "nbformat_minor": 2
}
